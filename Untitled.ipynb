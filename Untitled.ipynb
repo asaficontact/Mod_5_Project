{
 "cells": [
  {
   "cell_type": "code",
   "execution_count": 1,
   "metadata": {},
   "outputs": [],
   "source": [
    "from imports import *"
   ]
  },
  {
   "cell_type": "code",
   "execution_count": 2,
   "metadata": {},
   "outputs": [],
   "source": [
    "df = dh()\n"
   ]
  },
  {
   "cell_type": "code",
   "execution_count": 5,
   "metadata": {},
   "outputs": [
    {
     "data": {
      "text/plain": [
       "561047"
      ]
     },
     "execution_count": 5,
     "metadata": {},
     "output_type": "execute_result"
    }
   ],
   "source": [
    "len(df.df)"
   ]
  },
  {
   "cell_type": "code",
   "execution_count": 2,
   "metadata": {},
   "outputs": [],
   "source": [
    "#Load the Data File\n",
    "df = pd.read_csv('data/complete_dataset.csv')"
   ]
  },
  {
   "cell_type": "code",
   "execution_count": 3,
   "metadata": {},
   "outputs": [],
   "source": [
    "#Create a dataHandler class for our dataframe \n",
    "data = dh(df)"
   ]
  },
  {
   "cell_type": "code",
   "execution_count": 6,
   "metadata": {},
   "outputs": [],
   "source": [
    "isis_df = df.filter_data(region = ['Southern Asia', 'Middle East', 'South-Eastern Asia'], rebel_groups= True, actor_name= 'islamic state')"
   ]
  },
  {
   "cell_type": "code",
   "execution_count": 7,
   "metadata": {},
   "outputs": [
    {
     "data": {
      "text/html": [
       "<div>\n",
       "<style scoped>\n",
       "    .dataframe tbody tr th:only-of-type {\n",
       "        vertical-align: middle;\n",
       "    }\n",
       "\n",
       "    .dataframe tbody tr th {\n",
       "        vertical-align: top;\n",
       "    }\n",
       "\n",
       "    .dataframe thead th {\n",
       "        text-align: right;\n",
       "    }\n",
       "</style>\n",
       "<table border=\"1\" class=\"dataframe\">\n",
       "  <thead>\n",
       "    <tr style=\"text-align: right;\">\n",
       "      <th></th>\n",
       "      <th>event_date</th>\n",
       "      <th>year</th>\n",
       "      <th>event_type</th>\n",
       "      <th>sub_event_type</th>\n",
       "      <th>actor1</th>\n",
       "      <th>inter1</th>\n",
       "      <th>actor2</th>\n",
       "      <th>inter2</th>\n",
       "      <th>interaction</th>\n",
       "      <th>region</th>\n",
       "      <th>country</th>\n",
       "      <th>admin1</th>\n",
       "      <th>admin2</th>\n",
       "      <th>admin3</th>\n",
       "      <th>location</th>\n",
       "      <th>latitude</th>\n",
       "      <th>longitude</th>\n",
       "      <th>fatalities</th>\n",
       "      <th>timestamp</th>\n",
       "    </tr>\n",
       "  </thead>\n",
       "  <tbody>\n",
       "    <tr>\n",
       "      <th>0</th>\n",
       "      <td>27 July 2019</td>\n",
       "      <td>2019</td>\n",
       "      <td>Battles</td>\n",
       "      <td>Armed clash</td>\n",
       "      <td>Not Islamic State</td>\n",
       "      <td>1</td>\n",
       "      <td>Taliban</td>\n",
       "      <td>2</td>\n",
       "      <td>12</td>\n",
       "      <td>Southern Asia</td>\n",
       "      <td>Afghanistan</td>\n",
       "      <td>Paktika</td>\n",
       "      <td>Yosuf Khel</td>\n",
       "      <td>No actor 2</td>\n",
       "      <td>Yosuf Khel</td>\n",
       "      <td>33.0519</td>\n",
       "      <td>68.6500</td>\n",
       "      <td>13</td>\n",
       "      <td>1564425899</td>\n",
       "    </tr>\n",
       "    <tr>\n",
       "      <th>1</th>\n",
       "      <td>27 July 2019</td>\n",
       "      <td>2019</td>\n",
       "      <td>Explosions/Remote violence</td>\n",
       "      <td>Air/drone strike</td>\n",
       "      <td>Not Islamic State</td>\n",
       "      <td>1</td>\n",
       "      <td>Taliban</td>\n",
       "      <td>2</td>\n",
       "      <td>12</td>\n",
       "      <td>Southern Asia</td>\n",
       "      <td>Afghanistan</td>\n",
       "      <td>Badghis</td>\n",
       "      <td>Jawand</td>\n",
       "      <td>No actor 2</td>\n",
       "      <td>Jawand</td>\n",
       "      <td>35.0636</td>\n",
       "      <td>64.1492</td>\n",
       "      <td>13</td>\n",
       "      <td>1564425899</td>\n",
       "    </tr>\n",
       "    <tr>\n",
       "      <th>2</th>\n",
       "      <td>27 July 2019</td>\n",
       "      <td>2019</td>\n",
       "      <td>Battles</td>\n",
       "      <td>Armed clash</td>\n",
       "      <td>Not Islamic State</td>\n",
       "      <td>2</td>\n",
       "      <td>Military Forces of Afghanistan (2004-)</td>\n",
       "      <td>1</td>\n",
       "      <td>12</td>\n",
       "      <td>Southern Asia</td>\n",
       "      <td>Afghanistan</td>\n",
       "      <td>Nimruz</td>\n",
       "      <td>Khash Rod</td>\n",
       "      <td>No actor 2</td>\n",
       "      <td>Munar</td>\n",
       "      <td>31.7808</td>\n",
       "      <td>63.0234</td>\n",
       "      <td>1</td>\n",
       "      <td>1564425899</td>\n",
       "    </tr>\n",
       "    <tr>\n",
       "      <th>3</th>\n",
       "      <td>27 July 2019</td>\n",
       "      <td>2019</td>\n",
       "      <td>Battles</td>\n",
       "      <td>Armed clash</td>\n",
       "      <td>Not Islamic State</td>\n",
       "      <td>2</td>\n",
       "      <td>Military Forces of Afghanistan (2004-)</td>\n",
       "      <td>1</td>\n",
       "      <td>12</td>\n",
       "      <td>Southern Asia</td>\n",
       "      <td>Afghanistan</td>\n",
       "      <td>Nimruz</td>\n",
       "      <td>Khash Rod</td>\n",
       "      <td>No actor 2</td>\n",
       "      <td>Pushtah-ye Hasan</td>\n",
       "      <td>31.6666</td>\n",
       "      <td>62.9375</td>\n",
       "      <td>1</td>\n",
       "      <td>1564425899</td>\n",
       "    </tr>\n",
       "    <tr>\n",
       "      <th>4</th>\n",
       "      <td>27 July 2019</td>\n",
       "      <td>2019</td>\n",
       "      <td>Battles</td>\n",
       "      <td>Armed clash</td>\n",
       "      <td>Not Islamic State</td>\n",
       "      <td>2</td>\n",
       "      <td>Military Forces of Afghanistan (2004-)</td>\n",
       "      <td>1</td>\n",
       "      <td>12</td>\n",
       "      <td>Southern Asia</td>\n",
       "      <td>Afghanistan</td>\n",
       "      <td>Zabul</td>\n",
       "      <td>Arghandab</td>\n",
       "      <td>No actor 2</td>\n",
       "      <td>Arghandab</td>\n",
       "      <td>32.5555</td>\n",
       "      <td>67.0371</td>\n",
       "      <td>2</td>\n",
       "      <td>1564425899</td>\n",
       "    </tr>\n",
       "  </tbody>\n",
       "</table>\n",
       "</div>"
      ],
      "text/plain": [
       "     event_date  year                  event_type    sub_event_type  \\\n",
       "0  27 July 2019  2019                     Battles       Armed clash   \n",
       "1  27 July 2019  2019  Explosions/Remote violence  Air/drone strike   \n",
       "2  27 July 2019  2019                     Battles       Armed clash   \n",
       "3  27 July 2019  2019                     Battles       Armed clash   \n",
       "4  27 July 2019  2019                     Battles       Armed clash   \n",
       "\n",
       "              actor1  inter1                                  actor2  inter2  \\\n",
       "0  Not Islamic State       1                                 Taliban       2   \n",
       "1  Not Islamic State       1                                 Taliban       2   \n",
       "2  Not Islamic State       2  Military Forces of Afghanistan (2004-)       1   \n",
       "3  Not Islamic State       2  Military Forces of Afghanistan (2004-)       1   \n",
       "4  Not Islamic State       2  Military Forces of Afghanistan (2004-)       1   \n",
       "\n",
       "   interaction         region      country   admin1      admin2      admin3  \\\n",
       "0           12  Southern Asia  Afghanistan  Paktika  Yosuf Khel  No actor 2   \n",
       "1           12  Southern Asia  Afghanistan  Badghis      Jawand  No actor 2   \n",
       "2           12  Southern Asia  Afghanistan   Nimruz   Khash Rod  No actor 2   \n",
       "3           12  Southern Asia  Afghanistan   Nimruz   Khash Rod  No actor 2   \n",
       "4           12  Southern Asia  Afghanistan    Zabul   Arghandab  No actor 2   \n",
       "\n",
       "           location  latitude  longitude  fatalities   timestamp  \n",
       "0        Yosuf Khel   33.0519    68.6500          13  1564425899  \n",
       "1            Jawand   35.0636    64.1492          13  1564425899  \n",
       "2             Munar   31.7808    63.0234           1  1564425899  \n",
       "3  Pushtah-ye Hasan   31.6666    62.9375           1  1564425899  \n",
       "4         Arghandab   32.5555    67.0371           2  1564425899  "
      ]
     },
     "execution_count": 7,
     "metadata": {},
     "output_type": "execute_result"
    }
   ],
   "source": [
    "isis_df.head()"
   ]
  },
  {
   "cell_type": "code",
   "execution_count": 5,
   "metadata": {},
   "outputs": [
    {
     "data": {
      "text/html": [
       "<div>\n",
       "<style scoped>\n",
       "    .dataframe tbody tr th:only-of-type {\n",
       "        vertical-align: middle;\n",
       "    }\n",
       "\n",
       "    .dataframe tbody tr th {\n",
       "        vertical-align: top;\n",
       "    }\n",
       "\n",
       "    .dataframe thead th {\n",
       "        text-align: right;\n",
       "    }\n",
       "</style>\n",
       "<table border=\"1\" class=\"dataframe\">\n",
       "  <thead>\n",
       "    <tr style=\"text-align: right;\">\n",
       "      <th></th>\n",
       "      <th>event_date</th>\n",
       "      <th>year</th>\n",
       "      <th>event_type</th>\n",
       "      <th>sub_event_type</th>\n",
       "      <th>actor1</th>\n",
       "      <th>inter1</th>\n",
       "      <th>actor2</th>\n",
       "      <th>inter2</th>\n",
       "      <th>interaction</th>\n",
       "      <th>region</th>\n",
       "      <th>country</th>\n",
       "      <th>admin1</th>\n",
       "      <th>admin2</th>\n",
       "      <th>admin3</th>\n",
       "      <th>location</th>\n",
       "      <th>latitude</th>\n",
       "      <th>longitude</th>\n",
       "      <th>fatalities</th>\n",
       "      <th>timestamp</th>\n",
       "    </tr>\n",
       "  </thead>\n",
       "  <tbody>\n",
       "    <tr>\n",
       "      <th>0</th>\n",
       "      <td>27 July 2019</td>\n",
       "      <td>2019</td>\n",
       "      <td>Battles</td>\n",
       "      <td>Armed clash</td>\n",
       "      <td>Not Islamic State</td>\n",
       "      <td>1</td>\n",
       "      <td>Taliban</td>\n",
       "      <td>2</td>\n",
       "      <td>12</td>\n",
       "      <td>Southern Asia</td>\n",
       "      <td>Afghanistan</td>\n",
       "      <td>Paktika</td>\n",
       "      <td>Yosuf Khel</td>\n",
       "      <td>No actor 2</td>\n",
       "      <td>Yosuf Khel</td>\n",
       "      <td>33.0519</td>\n",
       "      <td>68.6500</td>\n",
       "      <td>13</td>\n",
       "      <td>1564425899</td>\n",
       "    </tr>\n",
       "    <tr>\n",
       "      <th>1</th>\n",
       "      <td>27 July 2019</td>\n",
       "      <td>2019</td>\n",
       "      <td>Explosions/Remote violence</td>\n",
       "      <td>Air/drone strike</td>\n",
       "      <td>Not Islamic State</td>\n",
       "      <td>1</td>\n",
       "      <td>Taliban</td>\n",
       "      <td>2</td>\n",
       "      <td>12</td>\n",
       "      <td>Southern Asia</td>\n",
       "      <td>Afghanistan</td>\n",
       "      <td>Badghis</td>\n",
       "      <td>Jawand</td>\n",
       "      <td>No actor 2</td>\n",
       "      <td>Jawand</td>\n",
       "      <td>35.0636</td>\n",
       "      <td>64.1492</td>\n",
       "      <td>13</td>\n",
       "      <td>1564425899</td>\n",
       "    </tr>\n",
       "    <tr>\n",
       "      <th>2</th>\n",
       "      <td>27 July 2019</td>\n",
       "      <td>2019</td>\n",
       "      <td>Battles</td>\n",
       "      <td>Armed clash</td>\n",
       "      <td>Not Islamic State</td>\n",
       "      <td>2</td>\n",
       "      <td>Military Forces of Afghanistan (2004-)</td>\n",
       "      <td>1</td>\n",
       "      <td>12</td>\n",
       "      <td>Southern Asia</td>\n",
       "      <td>Afghanistan</td>\n",
       "      <td>Nimruz</td>\n",
       "      <td>Khash Rod</td>\n",
       "      <td>No actor 2</td>\n",
       "      <td>Munar</td>\n",
       "      <td>31.7808</td>\n",
       "      <td>63.0234</td>\n",
       "      <td>1</td>\n",
       "      <td>1564425899</td>\n",
       "    </tr>\n",
       "    <tr>\n",
       "      <th>3</th>\n",
       "      <td>27 July 2019</td>\n",
       "      <td>2019</td>\n",
       "      <td>Battles</td>\n",
       "      <td>Armed clash</td>\n",
       "      <td>Not Islamic State</td>\n",
       "      <td>2</td>\n",
       "      <td>Military Forces of Afghanistan (2004-)</td>\n",
       "      <td>1</td>\n",
       "      <td>12</td>\n",
       "      <td>Southern Asia</td>\n",
       "      <td>Afghanistan</td>\n",
       "      <td>Nimruz</td>\n",
       "      <td>Khash Rod</td>\n",
       "      <td>No actor 2</td>\n",
       "      <td>Pushtah-ye Hasan</td>\n",
       "      <td>31.6666</td>\n",
       "      <td>62.9375</td>\n",
       "      <td>1</td>\n",
       "      <td>1564425899</td>\n",
       "    </tr>\n",
       "    <tr>\n",
       "      <th>4</th>\n",
       "      <td>27 July 2019</td>\n",
       "      <td>2019</td>\n",
       "      <td>Battles</td>\n",
       "      <td>Armed clash</td>\n",
       "      <td>Not Islamic State</td>\n",
       "      <td>2</td>\n",
       "      <td>Military Forces of Afghanistan (2004-)</td>\n",
       "      <td>1</td>\n",
       "      <td>12</td>\n",
       "      <td>Southern Asia</td>\n",
       "      <td>Afghanistan</td>\n",
       "      <td>Zabul</td>\n",
       "      <td>Arghandab</td>\n",
       "      <td>No actor 2</td>\n",
       "      <td>Arghandab</td>\n",
       "      <td>32.5555</td>\n",
       "      <td>67.0371</td>\n",
       "      <td>2</td>\n",
       "      <td>1564425899</td>\n",
       "    </tr>\n",
       "  </tbody>\n",
       "</table>\n",
       "</div>"
      ],
      "text/plain": [
       "     event_date  year                  event_type    sub_event_type  \\\n",
       "0  27 July 2019  2019                     Battles       Armed clash   \n",
       "1  27 July 2019  2019  Explosions/Remote violence  Air/drone strike   \n",
       "2  27 July 2019  2019                     Battles       Armed clash   \n",
       "3  27 July 2019  2019                     Battles       Armed clash   \n",
       "4  27 July 2019  2019                     Battles       Armed clash   \n",
       "\n",
       "              actor1  inter1                                  actor2  inter2  \\\n",
       "0  Not Islamic State       1                                 Taliban       2   \n",
       "1  Not Islamic State       1                                 Taliban       2   \n",
       "2  Not Islamic State       2  Military Forces of Afghanistan (2004-)       1   \n",
       "3  Not Islamic State       2  Military Forces of Afghanistan (2004-)       1   \n",
       "4  Not Islamic State       2  Military Forces of Afghanistan (2004-)       1   \n",
       "\n",
       "   interaction         region      country   admin1      admin2      admin3  \\\n",
       "0           12  Southern Asia  Afghanistan  Paktika  Yosuf Khel  No actor 2   \n",
       "1           12  Southern Asia  Afghanistan  Badghis      Jawand  No actor 2   \n",
       "2           12  Southern Asia  Afghanistan   Nimruz   Khash Rod  No actor 2   \n",
       "3           12  Southern Asia  Afghanistan   Nimruz   Khash Rod  No actor 2   \n",
       "4           12  Southern Asia  Afghanistan    Zabul   Arghandab  No actor 2   \n",
       "\n",
       "           location  latitude  longitude  fatalities   timestamp  \n",
       "0        Yosuf Khel   33.0519    68.6500          13  1564425899  \n",
       "1            Jawand   35.0636    64.1492          13  1564425899  \n",
       "2             Munar   31.7808    63.0234           1  1564425899  \n",
       "3  Pushtah-ye Hasan   31.6666    62.9375           1  1564425899  \n",
       "4         Arghandab   32.5555    67.0371           2  1564425899  "
      ]
     },
     "execution_count": 5,
     "metadata": {},
     "output_type": "execute_result"
    }
   ],
   "source": [
    "isis_df.head()"
   ]
  },
  {
   "cell_type": "code",
   "execution_count": 11,
   "metadata": {},
   "outputs": [],
   "source": [
    "x_train, x_test, y_train, y_test = data.get_train_test(isis_df)"
   ]
  },
  {
   "cell_type": "code",
   "execution_count": 12,
   "metadata": {},
   "outputs": [],
   "source": [
    "x = isis_df.copy()"
   ]
  },
  {
   "cell_type": "code",
   "execution_count": 16,
   "metadata": {},
   "outputs": [],
   "source": [
    "test.drop(['inter1','country', 'event_date', 'year', 'latitude', 'longitude','timestamp', 'actor1'], inplace = True, axis = 1)"
   ]
  },
  {
   "cell_type": "code",
   "execution_count": 19,
   "metadata": {},
   "outputs": [],
   "source": [
    "test['interaction'] = test.interaction.astype('object')\n",
    "test['inter2'] = test.inter2.astype('object')"
   ]
  },
  {
   "cell_type": "code",
   "execution_count": null,
   "metadata": {},
   "outputs": [],
   "source": [
    "test = pd.get_dummies(test)"
   ]
  },
  {
   "cell_type": "code",
   "execution_count": null,
   "metadata": {},
   "outputs": [],
   "source": []
  },
  {
   "cell_type": "code",
   "execution_count": 20,
   "metadata": {},
   "outputs": [
    {
     "data": {
      "text/plain": [
       "Index(['event_type', 'sub_event_type', 'assoc_actor_1', 'actor2', 'inter2',\n",
       "       'interaction', 'region', 'admin1', 'admin2', 'admin3', 'location',\n",
       "       'fatalities'],\n",
       "      dtype='object')"
      ]
     },
     "execution_count": 20,
     "metadata": {},
     "output_type": "execute_result"
    }
   ],
   "source": [
    "test.columns"
   ]
  },
  {
   "cell_type": "code",
   "execution_count": 15,
   "metadata": {},
   "outputs": [],
   "source": [
    "test = df.copy()"
   ]
  },
  {
   "cell_type": "code",
   "execution_count": null,
   "metadata": {},
   "outputs": [],
   "source": []
  },
  {
   "cell_type": "code",
   "execution_count": 5,
   "metadata": {},
   "outputs": [],
   "source": [
    "#Get Random Forest [the best parameters have been found using grid search]\n",
    "isis_rebel_groups_rf = data.random_forest(isis_df, max_depth= 30, min_samples_leaf=1, min_samples_split = 10, n_estimators=500, model_name = 'isis')"
   ]
  },
  {
   "cell_type": "code",
   "execution_count": 5,
   "metadata": {},
   "outputs": [],
   "source": [
    "isis_rf = data.load_model('isis')"
   ]
  },
  {
   "cell_type": "code",
   "execution_count": 6,
   "metadata": {},
   "outputs": [
    {
     "data": {
      "text/plain": [
       "RandomForestClassifier(bootstrap=True, class_weight=None, criterion='gini',\n",
       "            max_depth=30, max_features='auto', max_leaf_nodes=None,\n",
       "            min_impurity_decrease=0.0, min_impurity_split=None,\n",
       "            min_samples_leaf=1, min_samples_split=10,\n",
       "            min_weight_fraction_leaf=0.0, n_estimators=500, n_jobs=None,\n",
       "            oob_score=False, random_state=None, verbose=0,\n",
       "            warm_start=False)"
      ]
     },
     "execution_count": 6,
     "metadata": {},
     "output_type": "execute_result"
    }
   ],
   "source": [
    "isis_rf"
   ]
  },
  {
   "cell_type": "code",
   "execution_count": 7,
   "metadata": {},
   "outputs": [
    {
     "data": {
      "text/plain": [
       "{'training_accuracy': 0.925958500276882,\n",
       " 'testing_accuracy': 0.9200664484291787,\n",
       " 'training_F1_weighted': 0.9238511827444541,\n",
       " 'testing_F1_weighted': 0.9177113406155695,\n",
       " 'training_precision_weighted': 0.9330340541392627,\n",
       " 'testing_precision_weighted': 0.9277676133005858,\n",
       " 'training_recall_weighted': 0.925958500276882,\n",
       " 'testing_recall_weighted': 0.9200664484291787}"
      ]
     },
     "execution_count": 7,
     "metadata": {},
     "output_type": "execute_result"
    }
   ],
   "source": [
    "data.classifier_accuracy(isis_df, isis_rf)"
   ]
  },
  {
   "cell_type": "code",
   "execution_count": 8,
   "metadata": {},
   "outputs": [
    {
     "data": {
      "text/plain": [
       "<matplotlib.axes._subplots.AxesSubplot at 0x7fb294d3a908>"
      ]
     },
     "execution_count": 8,
     "metadata": {},
     "output_type": "execute_result"
    },
    {
     "data": {
      "image/png": "[encoded data removed]",
      "text/plain": [
       "<Figure size 864x576 with 2 Axes>"
      ]
     },
     "metadata": {
      "needs_background": "light"
     },
     "output_type": "display_data"
    }
   ],
   "source": [
    "data.plot_confusion_matrix(isis_df,isis_rf, 'train', normalize= True)"
   ]
  },
  {
   "cell_type": "code",
   "execution_count": 9,
   "metadata": {},
   "outputs": [
    {
     "data": {
      "text/plain": [
       "<matplotlib.axes._subplots.AxesSubplot at 0x7fb250f76a20>"
      ]
     },
     "execution_count": 9,
     "metadata": {},
     "output_type": "execute_result"
    },
    {
     "data": {
      "image/png": "[encoded data removed]",
      "text/plain": [
       "<Figure size 864x576 with 2 Axes>"
      ]
     },
     "metadata": {
      "needs_background": "light"
     },
     "output_type": "display_data"
    }
   ],
   "source": [
    "data.plot_confusion_matrix(isis_df,isis_rf, 'test', normalize= True)"
   ]
  },
  {
   "cell_type": "code",
   "execution_count": 10,
   "metadata": {},
   "outputs": [
    {
     "data": {
      "text/plain": [
       "Southern Asia         157594\n",
       "Middle East           155433\n",
       "Eastern Africa         64867\n",
       "Northern Africa        44478\n",
       "Western Africa         32894\n",
       "Europe                 32030\n",
       "South-Eastern Asia     27846\n",
       "Middle Africa          26419\n",
       "Southern Africa        19486\n",
       "Name: region, dtype: int64"
      ]
     },
     "execution_count": 10,
     "metadata": {},
     "output_type": "execute_result"
    }
   ],
   "source": [
    "df.region.value_counts()"
   ]
  },
  {
   "cell_type": "code",
   "execution_count": 24,
   "metadata": {},
   "outputs": [],
   "source": [
    "isis_df = data.filter_data(region = ['Southern Asia', 'Middle East', 'South-Eastern Asia','Eastern Africa', 'Northern Africa', 'Western Africa', 'Southern Africa'], rebel_groups= True, actor_name= 'islamic state')"
   ]
  },
  {
   "cell_type": "code",
   "execution_count": 25,
   "metadata": {},
   "outputs": [
    {
     "data": {
      "text/plain": [
       "Not Islamic State    87187\n",
       "Islamic State        32172\n",
       "Name: actor1, dtype: int64"
      ]
     },
     "execution_count": 25,
     "metadata": {},
     "output_type": "execute_result"
    }
   ],
   "source": [
    "isis_df.actor1.value_counts()"
   ]
  },
  {
   "cell_type": "code",
   "execution_count": 27,
   "metadata": {},
   "outputs": [],
   "source": [
    "#Get Random Forest [the best parameters have been found using grid search]\n",
    "isis_rebel_groups_rf = data.random_forest(isis_df, max_depth= 30, min_samples_leaf=1, min_samples_split = 10, n_estimators=500, model_name = 'isis_asia_and_africa')"
   ]
  },
  {
   "cell_type": "code",
   "execution_count": 28,
   "metadata": {},
   "outputs": [
    {
     "data": {
      "text/plain": [
       "{'training_accuracy': 0.9201063461388085,\n",
       " 'testing_accuracy': 0.9190348525469169,\n",
       " 'training_F1_weighted': 0.9153024340290291,\n",
       " 'testing_F1_weighted': 0.9140876461510925,\n",
       " 'training_precision_weighted': 0.9276930898689578,\n",
       " 'testing_precision_weighted': 0.9266133373855336,\n",
       " 'training_recall_weighted': 0.9201063461388085,\n",
       " 'testing_recall_weighted': 0.9190348525469169}"
      ]
     },
     "execution_count": 28,
     "metadata": {},
     "output_type": "execute_result"
    }
   ],
   "source": [
    "data.classifier_accuracy(isis_df, isis_rebel_groups_rf)"
   ]
  },
  {
   "cell_type": "code",
   "execution_count": 29,
   "metadata": {},
   "outputs": [
    {
     "data": {
      "text/plain": [
       "<matplotlib.axes._subplots.AxesSubplot at 0x7fb24380ba20>"
      ]
     },
     "execution_count": 29,
     "metadata": {},
     "output_type": "execute_result"
    },
    {
     "data": {
      "image/png": "[encoded data removed]",
      "text/plain": [
       "<Figure size 864x576 with 2 Axes>"
      ]
     },
     "metadata": {
      "needs_background": "light"
     },
     "output_type": "display_data"
    }
   ],
   "source": [
    "data.plot_confusion_matrix(isis_df,isis_rebel_groups_rf, 'train', normalize= True)"
   ]
  },
  {
   "cell_type": "code",
   "execution_count": 30,
   "metadata": {},
   "outputs": [
    {
     "data": {
      "text/plain": [
       "<matplotlib.axes._subplots.AxesSubplot at 0x7fb262689a90>"
      ]
     },
     "execution_count": 30,
     "metadata": {},
     "output_type": "execute_result"
    },
    {
     "data": {
      "image/png": "[encoded data removed]",
      "text/plain": [
       "<Figure size 864x576 with 2 Axes>"
      ]
     },
     "metadata": {
      "needs_background": "light"
     },
     "output_type": "display_data"
    }
   ],
   "source": [
    "data.plot_confusion_matrix(isis_df,isis_rebel_groups_rf, 'test', normalize= True)"
   ]
  },
  {
   "cell_type": "code",
   "execution_count": null,
   "metadata": {},
   "outputs": [],
   "source": []
  }
 ],
 "metadata": {
  "kernelspec": {
   "display_name": "Python 3",
   "language": "python",
   "name": "python3"
  },
  "language_info": {
   "codemirror_mode": {
    "name": "ipython",
    "version": 3
   },
   "file_extension": ".py",
   "mimetype": "text/x-python",
   "name": "python",
   "nbconvert_exporter": "python",
   "pygments_lexer": "ipython3",
   "version": "3.7.3"
  }
 },
 "nbformat": 4,
 "nbformat_minor": 2
}
